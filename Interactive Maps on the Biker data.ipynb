{
 "cells": [
  {
   "cell_type": "code",
   "execution_count": 1,
   "metadata": {},
   "outputs": [],
   "source": [
    "import pandas as pd\n",
    "import datetime\n",
    "import numpy as np\n",
    "import matplotlib.pyplot as plt\n",
    "import seaborn as sns\n",
    "import bqplot as bq\n",
    "import folium\n",
    "import branca\n",
    "import ipywidgets\n",
    "from ipywidgets import interact\n",
    "import vincent\n",
    "import json\n",
    "#bokeh\n",
    "from bokeh.plotting import figure, output_file \n",
    "from bokeh.io import show,output_notebook\n",
    "from bokeh.palettes import Plasma\n",
    "from bokeh.models import ColumnDataSource\n",
    "from bokeh.transform import factor_cmap\n",
    "from bokeh.models import FuncTickFormatter\n",
    "from folium import plugins\n",
    "from folium.plugins import HeatMap"
   ]
  },
  {
   "cell_type": "code",
   "execution_count": 2,
   "metadata": {},
   "outputs": [],
   "source": [
    "data = pd.read_csv(\"201712-citibike-tripdata_cleaned.csv\")"
   ]
  },
  {
   "cell_type": "markdown",
   "metadata": {},
   "source": [
    "## Trips density of each station based on arrival and departure by hour."
   ]
  },
  {
   "cell_type": "code",
   "execution_count": 3,
   "metadata": {},
   "outputs": [],
   "source": [
    "start_stations = dict(zip(data[\"start station name\"], data[\"start station id\"]))\n",
    "start_stations[\"None\"] = None\n",
    "end_stations = dict(zip(data[\"end station name\"], data[\"end station id\"]))\n",
    "end_stations[\"None\"]=None\n",
    "hour = dict(zip(data[\"hour\"]+1,data[\"hour\"]))\n",
    "map_options = {\"Mapbox Bright\":\"Mapbox Bright\",\"Mapbox Control Room\":\"Mapbox Control Room\",\"OpenStreetMap\":\"OpenStreetMap\",\"Mapbox Bright\":\"Mapbox Bright\",\"Stamen Toner\":\"Stamen Toner\",\"Stamen Terrain\":\"Stamen Terrain\",\"CartoDBDark\":\"CartoDB dark_matter\"}"
   ]
  },
  {
   "cell_type": "code",
   "execution_count": 4,
   "metadata": {},
   "outputs": [],
   "source": [
    "def trip_by_hour(hour):\n",
    "    loc1 = data.groupby(\"start station id\").first()\n",
    "    location = loc1.loc[:,[\"start station longitude\",\"start station latitude\",\"start station name\"]]\n",
    "    hour = data[data[\"hour\"]==hour]\n",
    "    departure=hour.groupby(\"start station id\").count().iloc[:,[0]]\n",
    "    departure.columns=[\"Counts of Departure\"]\n",
    "    #print(type(departure))\n",
    "    arrival= hour.groupby(\"end station id\").count().iloc[:,[0]]\n",
    "    arrival.columns=[\"Counts of Arrival\"]\n",
    "    #print(type(arrival))\n",
    "    #joining arrival and departure\n",
    "    trip = departure.join(location).join(arrival)\n",
    "    return plot_station_counts(trip)\n",
    "    #print(departure)"
   ]
  },
  {
   "cell_type": "code",
   "execution_count": 5,
   "metadata": {},
   "outputs": [],
   "source": [
    "def plot_station_counts(trip_counts):\n",
    "    # generate a new map\n",
    "    folium_map = folium.Map(location=[40.738, -73.98],\n",
    "                            tiles=\"Stamen Terrain\",\n",
    "                            zoom_start=13,\n",
    "                            width='50%')\n",
    "\n",
    "    # for each row in the data, add a cicle marker\n",
    "    for index, row in trip_counts.iterrows():\n",
    "        # calculate net departures\n",
    "        net_departures = (row[\"Counts of Departure\"]-row[\"Counts of Arrival\"])\n",
    "        \n",
    "        # generate the popup message that is shown on click.\n",
    "        popup_text = \"{}<br> total departures: {}<br> total arrivals: {}<br> net departures: {}\"\n",
    "        popup_text = popup_text.format(row[\"start station name\"],\n",
    "                          row[\"Counts of Arrival\"],\n",
    "                          row[\"Counts of Departure\"],\n",
    "                          net_departures)\n",
    "        \n",
    "        # radius of circles\n",
    "        radius = net_departures/20\n",
    "        \n",
    "        # choose the color of the marker\n",
    "        if net_departures>0:\n",
    "            #color=\"#FFCE00\" # orange\n",
    "             color=\"#007849\" # green\n",
    "            #color=\"#E37222\" # tangerine\n",
    "        else:\n",
    "             color=\"#0375B4\" # blue\n",
    "            # color=\"#FFCE00\" # yellow            \n",
    "            #color=\"#0A8A9F\" # teal\n",
    "        \n",
    "        # add marker to the map\n",
    "        folium.CircleMarker(location=(row[\"start station latitude\"],\n",
    "                                      row[\"start station longitude\"]),\n",
    "                            radius=radius,\n",
    "                            color=color,\n",
    "                            popup=popup_text,\n",
    "                            fill=True).add_to(folium_map)\n",
    "        #data['points'] = list(zip(data[\"start station latitude\"], data[\"start station longitude\"]))\n",
    "    #trip_counts['points'] = list(zip(trip_counts[\"start station latitude\"], trip_counts[\"start station longitude\"]))\n",
    "    #for i in trip_counts[\"points\"]:\n",
    "    #    folium.Marker(i).add_to(folium_map)\n",
    "    #folium.PolyLine(trip_counts[\"points\"], color=\"red\", weight=2.5, opacity=0.2).add_to(folium_map)\n",
    "    return folium_map"
   ]
  },
  {
   "cell_type": "code",
   "execution_count": 6,
   "metadata": {},
   "outputs": [
    {
     "data": {
      "application/vnd.jupyter.widget-view+json": {
       "model_id": "12a48ce1f1be4e539069c4efa9b44df3",
       "version_major": 2,
       "version_minor": 0
      },
      "text/html": [
       "<p>Failed to display Jupyter Widget of type <code>interactive</code>.</p>\n",
       "<p>\n",
       "  If you're reading this message in the Jupyter Notebook or JupyterLab Notebook, it may mean\n",
       "  that the widgets JavaScript is still loading. If this message persists, it\n",
       "  likely means that the widgets JavaScript library is either not installed or\n",
       "  not enabled. See the <a href=\"https://ipywidgets.readthedocs.io/en/stable/user_install.html\">Jupyter\n",
       "  Widgets Documentation</a> for setup instructions.\n",
       "</p>\n",
       "<p>\n",
       "  If you're reading this message in another frontend (for example, a static\n",
       "  rendering on GitHub or <a href=\"https://nbviewer.jupyter.org/\">NBViewer</a>),\n",
       "  it may mean that your frontend doesn't currently support widgets.\n",
       "</p>\n"
      ],
      "text/plain": [
       "interactive(children=(Dropdown(description='hour', options={1: 0, 2: 1, 3: 2, 4: 3, 5: 4, 6: 5, 7: 6, 8: 7, 9: 8, 10: 9, 11: 10, 12: 11, 13: 12, 14: 13, 15: 14, 16: 15, 17: 16, 18: 17, 19: 18, 20: 19, 21: 20, 22: 21, 23: 22, 24: 23}, value=0), Output()), _dom_classes=('widget-interact',))"
      ]
     },
     "metadata": {},
     "output_type": "display_data"
    },
    {
     "data": {
      "text/plain": [
       "<function __main__.trip_by_hour>"
      ]
     },
     "execution_count": 6,
     "metadata": {},
     "output_type": "execute_result"
    }
   ],
   "source": [
    "interact(trip_by_hour,hour = hour)\n"
   ]
  },
  {
   "cell_type": "markdown",
   "metadata": {},
   "source": [
    "## Interactive map using start and end stations with hours and tiles option"
   ]
  },
  {
   "cell_type": "code",
   "execution_count": 7,
   "metadata": {},
   "outputs": [],
   "source": [
    "def plot_station_by_hour(trip_counts,tiles):\n",
    "    # generate a new map\n",
    "    folium_map = folium.Map(location=[40.738, -73.98],\n",
    "                            tiles=\"CartoDB dark matter\",\n",
    "                            zoom_start=13,\n",
    "                            width='50%')\n",
    "\n",
    "    # for each row in the data, add a cicle marker\n",
    "    for index, row in trip_counts.iterrows():\n",
    "        # calculate net departures\n",
    "        net_departures = (row[\"Counts of Departure\"]-row[\"Counts of Arrival\"])\n",
    "        \n",
    "        # generate the popup message that is shown on click.\n",
    "        popup_text = \"{}<br> total departures: {}<br> total arrivals: {}<br> net departures: {}\"\n",
    "        popup_text = popup_text.format(row[\"start station name\"],\n",
    "                          row[\"Counts of Arrival\"],\n",
    "                          row[\"Counts of Departure\"],\n",
    "                          net_departures)\n",
    "        \n",
    "        # radius of circles\n",
    "        radius = net_departures/20\n",
    "        \n",
    "        # choose the color of the marker\n",
    "        if net_departures>0:\n",
    "            #color=\"#FFCE00\" # orange\n",
    "             color=\"#007849\" # green\n",
    "            #color=\"#E37222\" # tangerine\n",
    "        else:\n",
    "             color=\"#0375B4\" # blue\n",
    "            # color=\"#FFCE00\" # yellow            \n",
    "            #color=\"#0A8A9F\" # teal\n",
    "        \n",
    "        # add marker to the map\n",
    "        #folium.CircleMarker(location=(row[\"start station latitude\"],\n",
    "        #                              row[\"start station longitude\"]),\n",
    "        #                    radius=radius,\n",
    "        #                    color=color,\n",
    "        #                    popup=popup_text,\n",
    "        #                    fill=True).add_to(folium_map)\n",
    "        #data['points'] = list(zip(data[\"start station latitude\"], data[\"start station longitude\"]))\n",
    "    trip_counts['points'] = list(zip(trip_counts[\"start station latitude\"], trip_counts[\"start station longitude\"]))\n",
    "    for i in trip_counts[\"points\"]:\n",
    "        folium.Marker(i).add_to(folium_map)\n",
    "    folium.PolyLine(trip_counts[\"points\"], color=\"red\", weight=2.5, opacity=0.2).add_to(folium_map)\n",
    "    return folium_map"
   ]
  },
  {
   "cell_type": "code",
   "execution_count": 8,
   "metadata": {},
   "outputs": [],
   "source": [
    "from bokeh.models import HoverTool\n",
    "\n",
    "def route(start_station,end_station,fig):\n",
    "    val = data[(data[\"start station id\"]==start_station) & (data[\"end station id\"]==end_station)]\n",
    "    bike = val.groupby([\"hour\"]).count().iloc[:,[11]].reset_index()\n",
    "    #output_file(\"line.html\")\n",
    "    #f = branca.element.Figure()\n",
    "    bike[\"hour\"] = bike[\"hour\"]+1\n",
    "    scatter_points = {\n",
    "        'x': bike[\"hour\"],\n",
    "        'y': bike[\"bikeid\"],\n",
    "        }\n",
    "    scatter_chart = vincent.Scatter(scatter_points,\n",
    "                       iter_idx='x',\n",
    "                       width=450,\n",
    "                      height=250)\n",
    "    scatter_json = scatter_chart.to_json()\n",
    "    scatter_dict = json.loads(scatter_json)\n",
    "    #popup = folium.Popup(max_width=650)\n",
    "    v = folium.Vega(scatter_dict, height='50%', width='25%',left='50%',position='absolute')\n",
    "    fig.add_child(v)\n",
    "    return fig"
   ]
  },
  {
   "cell_type": "code",
   "execution_count": 9,
   "metadata": {},
   "outputs": [],
   "source": [
    "def route_other(start_station,fig):\n",
    "    val = data[data[\"start station id\"]==start_station]\n",
    "    bike = val.groupby([\"hour\"]).count().iloc[:,[11]].reset_index()\n",
    "    #print(bike)\n",
    "    bike[\"hour\"] = bike[\"hour\"]+1\n",
    "    #print(bike)\n",
    "    #output_file(\"line.html\")\n",
    "    #f = branca.element.Figure()\n",
    "    #print(bike)\n",
    "    scatter_points = {\n",
    "        'x': bike[\"hour\"],\n",
    "        'y': bike[\"bikeid\"],\n",
    "        }\n",
    "    scatter_chart = vincent.Scatter(scatter_points,\n",
    "                       iter_idx='x',\n",
    "                       width=450,\n",
    "                      height=250)\n",
    "    scatter_json = scatter_chart.to_json()\n",
    "    scatter_dict = json.loads(scatter_json)\n",
    "    #popup = folium.Popup(max_width=650)\n",
    "    v = folium.Vega(scatter_dict, height='50%', width='25%',left='50%',position='absolute')\n",
    "    fig.add_child(v)\n",
    "    return fig"
   ]
  },
  {
   "cell_type": "code",
   "execution_count": 10,
   "metadata": {},
   "outputs": [],
   "source": [
    "def plot_station(trip_counts,tiles,val):\n",
    "    # generate a new map\n",
    "    folium_map = folium.Map(location=[40.738, -73.98],\n",
    "                            tiles=tiles,\n",
    "                            zoom_start=10,control_scale=True,left='0%',\n",
    "                            width='50%',position='absolute',height='50%')\n",
    "    #print(trip_counts)\n",
    "    points=[]\n",
    "    #popup = folium.Popup()\n",
    "    #bike = val.groupby([\"hour\"]).count().iloc[:,[0]].reset_index()\n",
    "    for index, row in trip_counts.iterrows():\n",
    "        \n",
    "        #net_departures = (row[\"Counts of Departure\"]-row[\"Counts of Arrival\"])\n",
    "        #scatter_points = {\n",
    "        #'x': bike[\"hour\"],\n",
    "        #'y': bike[\"bikeid\"],\n",
    "        #'title' : row[\"start station name\"]\n",
    "        #}\n",
    "        #scatter_chart = vincent.Scatter(scatter_points,\n",
    "        #                        iter_idx='x',\n",
    "        #                        width=600,\n",
    "        #                        height=300)\n",
    "        #scatter_json = scatter_chart.to_json()\n",
    "        #scatter_dict = json.loads(scatter_json)\n",
    "        #popup = folium.Popup(max_width=650)\n",
    "        #folium.Vega(scatter_dict, height=350, width=650).add_to(popup)\n",
    "        \n",
    "        popup_text = \"{}\"\n",
    "        popup_text_end = \"{}\"\n",
    "        popup_text = popup_text.format(row[\"start station name\"])\n",
    "                          #row[\"Counts of Arrival\"],\n",
    "                          #row[\"Counts of Departure\"],\n",
    "                          #net_departures)\n",
    "        \n",
    "        popup_text_end = popup_text_end.format(row[\"end station name\"])\n",
    "                          #row[\"Counts of Arrival\"],\n",
    "                          #row[\"Counts of Departure\"],\n",
    "                          #net_departures)\n",
    "        folium.Marker(location=(row[\"start station latitude\"],\n",
    "                                      row[\"start station longitude\"]),icon=folium.Icon(color='blue',icon='bicycle',prefix='fa'),\n",
    "                            popup=popup_text).add_to(folium_map)\n",
    "        folium.Marker(location=(row[\"end station latitude\"],\n",
    "                                      row[\"end station longitude\"]),icon=folium.Icon(color='green',icon='bicycle',prefix='fa'),\n",
    "                            popup=popup_text_end).add_to(folium_map)\n",
    "    #print(trip_counts)    \n",
    "    points=list(zip(trip_counts[\"start station latitude\"], trip_counts[\"start station longitude\"]))\n",
    "    #a=len(points)\n",
    "    val = list(zip(trip_counts[\"end station latitude\"], trip_counts[\"end station longitude\"]))\n",
    "    try:\n",
    "           for i in val:\n",
    "                points.append(i)\n",
    "    except:\n",
    "            print(\"No Route Found!\")\n",
    "    if(len(points)==0):\n",
    "        print(\"No Route Found!\")\n",
    "    #for i in points:\n",
    "    #    folium.Marker(i).add_to(folium_map)\n",
    "    #points= list(set(points))\n",
    "    folium.PolyLine(points, color=\"red\", weight=2.5, opacity=1).add_to(folium_map)\n",
    "    #print(\"Number of Bike Trips Recorded: \" , a)\n",
    "    return folium_map"
   ]
  },
  {
   "cell_type": "code",
   "execution_count": null,
   "metadata": {},
   "outputs": [],
   "source": []
  },
  {
   "cell_type": "code",
   "execution_count": 18,
   "metadata": {
    "scrolled": true
   },
   "outputs": [
    {
     "name": "stdout",
     "output_type": "stream",
     "text": [
      "Solving environment: ...working... failed\n"
     ]
    },
    {
     "name": "stderr",
     "output_type": "stream",
     "text": [
      "\n",
      "PackagesNotFoundError: The following packages are missing from the target environment:\n",
      "  - nbpresent\n",
      "\n",
      "\n"
     ]
    },
    {
     "data": {
      "application/vnd.jupyter.widget-view+json": {
       "model_id": "85851ad2f20d4268b9062bb2c4924c21",
       "version_major": 2,
       "version_minor": 0
      },
      "text/html": [
       "<p>Failed to display Jupyter Widget of type <code>interactive</code>.</p>\n",
       "<p>\n",
       "  If you're reading this message in the Jupyter Notebook or JupyterLab Notebook, it may mean\n",
       "  that the widgets JavaScript is still loading. If this message persists, it\n",
       "  likely means that the widgets JavaScript library is either not installed or\n",
       "  not enabled. See the <a href=\"https://ipywidgets.readthedocs.io/en/stable/user_install.html\">Jupyter\n",
       "  Widgets Documentation</a> for setup instructions.\n",
       "</p>\n",
       "<p>\n",
       "  If you're reading this message in another frontend (for example, a static\n",
       "  rendering on GitHub or <a href=\"https://nbviewer.jupyter.org/\">NBViewer</a>),\n",
       "  it may mean that your frontend doesn't currently support widgets.\n",
       "</p>\n"
      ],
      "text/plain": [
       "interactive(children=(Dropdown(description='start_station', options={'DeKalb Ave & Hudson Ave': 324, 'W 20 St & 8 Ave': 470, 'Greenwich St & W Houston St': 347, 'Stagg St & Union Ave': 3077, 'Carmine St & 6 Ave': 368, '5 Ave & E 63 St': 3136, 'W 70 St & Amsterdam Ave': 3175, 'Greenwich Ave & Charles St': 383, 'E 10 St & 5 Ave': 280, 'Madison St & Montgomery St': 291, 'Canal St & Rutgers St': 307, 'W 13 St & 6 Ave': 345, 'Frederick Douglass Blvd & W 117 St': 3534, 'W 31 St & 7 Ave': 379, 'Allen St & Stanton St': 312, 'Broadway & W 29 St': 486, 'W 52 St & 9 Ave': 449, 'Broadway & W 60 St': 499, 'E 9 St & Avenue C': 394, 'E 15 St & 3 Ave': 297, 'Kent Ave & N 7 St': 3016, 'E 58 St & 3 Ave': 305, '9 Ave & W 45 St': 479, 'Little West St & 1 Pl': 2008, '5 Ave & E 78 St': 3143, 'E 24 St & Park Ave S': 491, '31 St & Astoria Blvd': 3516, 'Central Park W & W 96 St': 3295, 'LaGuardia Pl & W 3 St': 161, 'St Marks Pl & 1 Ave': 438, 'W 18 St & 6 Ave': 168, 'W 22 St & 8 Ave': 453, 'Boerum St & Broadway': 3071, 'Christopher St & Greenwich St': 358, 'Cooper Square & Astor Pl': 3263, 'Adelphi St & Myrtle Ave': 270, 'St James Pl & Oliver St': 308, 'E 11 St & 1 Ave': 326, '6 Ave & 9 St': 3304, 'E 12 St & 3 Ave': 483, 'Forsyth St & Broome St': 531, 'E 85 St & 3 Ave': 3147, '1 Ave & E 18 St': 2003, 'Bushwick Ave & Powers St': 3083, 'E 25 St & 2 Ave': 507, 'MacDougal St & Prince St': 128, 'S 3 St & Bedford Ave': 481, 'W 24 St & 7 Ave': 446, 'Lafayette Ave & Fort Greene Pl': 274, 'W 33 St & 7 Ave': 492, '14 St & 5 Ave': 3319, 'Broadway & W 56 St': 468, 'Grand St & Havemeyer St': 471, 'Meserole Ave & Manhattan Ave': 3110, '31 St & Thomson Ave': 3123, 'Greenpoint Ave & Manhattan Ave': 3113, 'E 20 St & 2 Ave': 461, 'Great Jones St': 229, 'E 27 St & 1 Ave': 2012, 'Bank St & Hudson St': 346, '6 Ave & Spring St': 3474, 'Greenwich Ave & 8 Ave': 284, 'University Pl & E 14 St': 382, '11 Ave & W 59 St': 530, 'W 67 St & Broadway': 3159, 'W 100 St & Broadway': 3350, '11 Ave & W 41 St': 478, 'Barrow St & Hudson St': 127, 'St Marks Pl & 2 Ave': 236, 'E 10 St & Avenue A': 445, 'E 17 St & Broadway': 497, '45 Rd & 11 St': 3125, 'Broadway & W 41 St': 465, 'Metropolitan Ave & Bedford Ave': 539, 'Centre St & Chambers St': 387, 'W 34 St & 11 Ave': 525, '31 St & Hoyt Ave N': 3517, 'W 49 St & 8 Ave': 450, 'W 41 St & 8 Ave': 477, 'Columbia St & Kane St': 3311, 'Sullivan St & Washington Sq': 336, 'W 84 St & Broadway': 3177, 'Macon St & Nostrand Ave': 437, 'W 45 St & 6 Ave': 3466, 'Scholes St & Manhattan Ave': 3076, 'W 13 St & 5 Ave': 253, 'Schermerhorn St & 3 Ave': 3455, 'Barclay St & Church St': 417, 'Catherine St & Monroe St': 2009, 'Liberty St & Broadway': 195, 'E 11 St & 2 Ave': 237, '31 St & 23 Ave': 3526, 'Graham Ave & Grand St': 3081, 'Centre St & Worth St': 386, 'Frederick Douglass Blvd & W 112 St': 3553, 'Grand St & Elizabeth St': 3435, 'Harrison St & Hudson St': 249, 'Pacific St & Nevins St': 3412, 'Pershing Square North': 519, 'Amsterdam Ave & W 79 St': 3360, 'MacDougal St & Washington Sq': 252, '8 Ave & W 33 St': 490, 'Broadway & W 49 St': 173, '44 Dr & 21 St': 3615, 'E 31 St & 3 Ave': 476, 'Huron St & Franklin St': 3116, 'Bedford Ave & Nassau Ave': 3107, 'Broadway & E 14 St': 285, 'Lafayette Ave & St James Pl': 399, '2 Ave & E 31 St': 528, 'Central Park S & 6 Ave': 2006, 'Amsterdam Ave & W 73 St': 3167, '1 Ave & E 16 St': 504, 'Vernon Blvd & 50 Ave': 3119, 'Pike St & Monroe St': 331, 'Clinton Ave & Flushing Ave': 343, 'Mercer St & Bleecker St': 3260, 'E 51 St & 1 Ave': 454, 'W 27 St & 7 Ave': 442, 'Lawrence St & Willoughby St': 323, 'Fulton St & Rockwell Pl': 243, 'E 53 St & Madison Ave': 456, 'Montrose Ave & Bushwick Ave': 3074, 'W 4 St & 7 Ave S': 380, '3 Ave & E 62 St': 3134, 'Washington Pl & 6 Ave': 369, 'Myrtle Ave & Lewis Ave': 3064, 'Willoughby Ave & Hall St': 244, 'Fulton St & Broadway': 319, 'Rogers Ave & Sterling St': 3604, 'E 47 St & 1 Ave': 516, 'Central Park North & Adam Clayton Powell Blvd': 3374, 'Avenue D & E 8 St': 266, 'Court St & State St': 3402, 'West Thames St': 363, '21 St & Queens Plaza North': 3130, 'Metropolitan Ave & Meeker Ave': 3087, '2 Ave & E 96 St': 3318, 'Peck Slip & Front St': 279, 'E 25 St & 1 Ave': 174, 'W 36 St & 9 Ave': 3635, 'Amsterdam Ave & W 82 St': 3171, 'E 33 St & 2 Ave': 527, 'W 110 St & Amsterdam Ave': 3538, 'Rivington St & Chrystie St': 473, '2 Ave & E 122 St': 3499, 'South End Ave & Liberty St': 3002, 'Mott St & Prince St': 251, 'Myrtle Ave & Marcy Ave': 3062, 'Allen St & Hester St': 361, 'E 33 St & 5 Ave': 526, 'Graham Ave & Withers St': 3094, 'Richardson St & N Henry St': 3430, 'Lexington Ave & E 24 St': 537, 'York St & Jay St': 430, '1 Ave & E 94 St': 3312, 'Hudson St & Reade St': 146, 'Clinton St & Tillary St': 322, 'Van Dyke St & Van Brunt St': 3644, 'W 37 St & 10 Ave': 448, 'Cleveland Pl & Spring St': 151, 'Vesey Pl & River Terrace': 327, 'Driggs Ave & Lorimer St': 3102, 'Warren St & Court St': 3298, '1 Ave & E 68 St': 3141, 'Old Fulton St': 217, 'Lenox Ave & W 130 St': 3529, 'Water - Whitehall Plaza': 534, 'Dean St & Hoyt St': 3410, 'Bergen St & Smith St': 3409, 'E 2 St & 2 Ave': 403, 'Bayard St & Baxter St': 355, 'W 42 St & 8 Ave': 529, 'Suffolk St & Stanton St': 410, 'W 20 St & 7 Ave': 334, 'Eastern Pkwy & Franklin Ave': 3584, 'E 4 St & 2 Ave': 439, 'Cathedral Pkwy & Broadway': 3383, 'W 27 St & 10 Ave': 3258, '9 Ave & W 22 St': 509, 'Cadman Plaza E & Tillary St': 232, 'E 115 St & Lexington Ave': 3494, 'Stanton St & Chrystie St': 265, 'E 16 St & 5 Ave': 496, 'W 38 St & 8 Ave': 523, '43 St & Broadway': 3597, 'E 55 St & 2 Ave': 385, 'Park Pl & Vanderbilt Ave': 3576, 'Warren St & Church St': 152, 'E 58 St & 1 Ave': 3243, 'Forsyth St & Canal St': 412, '9 Ave & W 28 St': 3259, 'Wythe Ave & Metropolitan Ave': 2002, 'E 35 St & 3 Ave': 3431, 'W 116 St & Broadway': 3536, 'E 6 St & Avenue B': 317, 'Hope St & Union Ave': 3082, 'W Broadway & Spring Street': 3467, 'W 26 St & 8 Ave': 494, 'E 20 St & FDR Drive': 487, 'Clark St & Henry St': 391, 'Baltic St & 5 Ave': 3417, 'Broadway & W 58 St': 457, 'Lafayette St & E 8 St': 293, 'W 54 St & 9 Ave': 423, 'E 19 St & 3 Ave': 325, 'W 13 St & Hudson St': 3224, 'Clinton St & 4 Place': 3396, 'E 52 St & 2 Ave': 441, 'Graham Ave & Conselyea St': 3086, 'Leonard St & Church St': 320, '6 Ave & W 33 St': 505, 'Broadway & W 36 St': 267, 'W 21 St & 6 Ave': 435, 'Broadway & Berry St': 389, 'W 106 St & Amsterdam Ave': 3357, 'Jay St & Tech Pl': 392, 'W 15 St & 7 Ave': 482, 'Fulton St & Utica Ave': 3042, 'Riverside Dr & W 104 St': 3331, 'Lexington Ave & E 29 St': 540, 'E 2 St & Avenue B': 301, 'Allen St & Rivington St': 401, 'Central Park West & W 85 St': 3168, 'Broad St & Bridge St': 260, 'Lexington Ave & Classon Ave': 120, 'Norfolk St & Broome St': 311, '6 St & 7 Ave': 3297, 'Bond St & Fulton St': 3232, 'E 45 St & 3 Ave': 440, 'Pershing Square South': 517, 'Broadway & W 32 St': 498, 'West Drive & Prospect Park West': 3423, 'N 8 St & Driggs Ave': 3090, 'W 52 St & 6 Ave': 3443, 'E 98 St & Lexington Ave': 3642, 'E 30 St & Park Ave S': 546, 'Lispenard St & Broadway': 257, '35 Ave & 37 St': 3570, 'W 16 St & The High Line': 212, 'Franklin St & W Broadway': 79, '1 Ave & E 30 St': 536, 'Broadway & W 53 St': 469, 'E 12 St & Avenue B': 3632, '5 Ave & E 29 St': 474, 'Kent Ave & S 11 St': 282, 'W 87 St & Amsterdam Ave': 3285, 'Hanson Pl & Ashland Pl': 3429, 'S 4 St & Rodney St': 3080, 'Kosciuszko St & Tompkins Ave': 3057, 'W 47 St & 10 Ave': 495, 'Prospect Pl & 6 Ave': 3415, 'E 128 St & Madison Ave': 3622, 'John St & William St': 376, 'Hoyt St & Warren St': 3421, 'W 11 St & 6 Ave': 254, 'Washington St & Gansevoort St': 405, 'DeKalb Ave & Skillman St': 409, '1 Ave & E 78 St': 3140, '1 Ave & E 44 St': 455, 'Monroe St & Bedford Ave': 344, 'Smith St & 3 St': 3384, 'Clinton St & Centre St': 3326, 'E 11 St & Broadway': 357, 'Madison Ave & E 82 St': 3362, 'Broadway & E 22 St': 402, 'Smith St & 9 St': 3398, 'Broadway & W 37 St': 362, 'Roebling St & N 4 St': 3085, 'E 7 St & Avenue A': 432, 'W 53 St & 10 Ave': 480, '21 St & 43 Ave': 3128, 'Verona Pl & Fulton St': 3249, 'Murray St & West St': 309, 'Carlton Ave & Flushing Ave': 242, 'E 2 St & Avenue C': 150, 'Milton St & Franklin St': 3112, 'Schermerhorn St & Bond St': 3486, 'W 52 St & 11 Ave': 72, 'E 53 St & 3 Ave': 3459, 'Front St & Gold St': 418, 'Bayard St & Leonard St': 3452, 'Division Ave & Marcy Ave': 3075, 'Howard St & Centre St': 268, '23 Ave & 27 St': 3525, 'Franklin Ave & St Marks Ave': 3569, 'W 22 St & 10 Ave': 462, '8 Ave & W 31 St': 3255, 'W 113 St & Broadway': 3552, 'N 6 St & Bedford Ave': 3093, 'Dean St & 4 Ave': 467, 'E 23 St & 1 Ave': 545, 'E 74 St & 1 Ave': 3372, 'Clinton Ave & Myrtle Ave': 366, 'Sterling Pl & Bedford Ave': 3579, 'W 13 St & 7 Ave': 223, 'Duffield St & Willoughby St': 390, 'W 76 St & Columbus Ave': 3161, '1 Ave & E 62 St': 3142, 'McGuinness Blvd & Eagle St': 3118, 'Kosciuszko St & Nostrand Ave': 3056, 'Queens Plaza North & Crescent St': 3129, 'E 91 St & 2 Ave': 3305, 'Stanton St & Mangin St': 341, 'Newtown Ave & 23 St': 3619, 'Berry St & N 8 St': 3092, 'Johnson St & Gold St': 261, 'Berkeley Pl & 7 Ave': 3346, 'E 16 St & Irving Pl': 3463, 'E 6 St & Avenue D': 411, 'Broadway & W 51 St': 500, '8 Ave & W 52 St': 447, 'University Pl & E 8 St': 3244, 'W 42 St & Dyer Ave': 3236, '14 St & 7 Ave': 3310, 'Central Park West & W 68 St': 3163, 'Kingston Ave & Herkimer St': 3041, 'W 45 St & 8 Ave': 2021, 'W 63 St & Broadway': 3158, 'Avenue D & E 3 St': 302, 'Grand Army Plaza & Central Park S': 281, 'West St & Chambers St': 426, 'Adam Clayton Powell Blvd & W 118 St': 3520, 'Carlton Ave & Park Ave': 419, 'Clermont Ave & Park Ave': 421, 'State St & Smith St': 310, 'Bergen St & Flatbush Ave': 3414, 'William St & Pine St': 360, 'Broadway & Roebling St': 3078, 'E 85 St & York Ave': 3150, 'Henry St & Poplar St': 407, '31 Ave & 14 St': 3607, 'W 84 St & Columbus Ave': 3170, '28 St & 38 Ave': 3560, 'West End Ave & W 107 St': 3366, 'Bond St & Bergen St': 3411, 'W 56 St & 10 Ave': 513, 'Cliff St & Fulton St': 306, 'W 43 St & 10 Ave': 515, 'Lewis Ave & Madison St': 3052, 'Cherry St': 332, 'N 15 St & Wythe Ave': 3105, 'Carroll St & 5 Ave': 3364, 'E 76 St & 3 Ave': 3438, '21 St & Hoyt Ave S': 3513, 'E 106 St & 1 Ave': 3391, 'Clinton St & Joralemon St': 143, '31 Ave & 34 St': 3602, 'Madison St & Clinton St': 340, 'Henry St & Atlantic Ave': 157, 'Clinton St & Grand St': 350, 'Leonard St & Maujer St': 3454, 'E 84 St & Park Ave': 3145, 'E 81 St & 3 Ave': 3146, 'Gold St & Frankfort St': 3489, 'Riverside Dr & W 78 St': 3178, '24 St & 41 Ave': 3556, 'Tompkins Ave & Hopkins St': 3066, 'E 89 St & 3 Ave': 3286, '47 Ave & 31 St': 3221, '5 Ave & E 103 St': 3367, 'Madison Ave & E 99 St': 3345, 'Franklin Ave & Myrtle Ave': 372, 'Carroll St & 6 Ave': 3361, 'Broadway & Moylan Pl': 3547, 'Union St & 4 Ave': 3335, '12 Ave & W 40 St': 514, 'W 90 St & Amsterdam Ave': 3289, 'Astoria Park S & Shore Blvd': 3514, 'W 88 St & West End Ave': 3434, 'St Nicholas Ave & Manhattan Ave': 3508, 'E 118 St & Park Ave': 3492, 'Lexington Ave & E 111 St': 3502, 'E 32 St & Park Ave': 472, 'E 81 St & York Ave': 3151, 'Columbia St & Rivington St': 342, 'Newton Rd & 44 St': 3598, 'E 72 St & York Ave': 3156, 'Market St & Cherry St': 408, 'E 110 St & Madison Ave': 3400, 'West End Ave & W 94 St': 3307, 'Pearl St & Hanover Square': 415, 'Nassau Ave & Newell St': 3100, '11 Ave & W 27 St': 458, '3 Ave & E 71 St': 3152, 'Henry St & Grand St': 502, 'Crescent St & 30 Ave': 3614, 'Cambridge Pl & Gates Ave': 3049, 'Columbus Ave & W 72 St': 3164, '6 Ave & 12 St': 3313, 'E 81 St & Park Ave': 3144, 'Franklin St & Dupont St': 3117, 'W 37 St & 5 Ave': 485, 'Putnam Ave & Throop Ave': 3050, 'E 89 St & York Ave': 3290, 'Grand Ave & Bergen St': 3549, 'Central Park West & W 72 St': 3165, 'Bank St & Washington St': 238, 'Reade St & Broadway': 330, 'Washington Park': 262, 'India St & Manhattan Ave': 3115, '3 Ave & E 72 St': 3375, 'Central Park West & W 76 St': 3160, 'Riverside Dr & W 82 St': 3169, '2 Ave & E 104 St': 3425, 'W 25 St & 6 Ave': 466, 'E 106 St & Madison Ave': 3387, 'W 107 St & Columbus Ave': 3343, 'Union Ave & Jackson St': 3088, 'E 88 St & Park Ave': 3284, 'Washington Ave & Park Ave': 313, 'Laight St & Hudson St': 248, '5 Ave & 3 St': 3368, 'E 68 St & Madison Ave': 3359, 'W 104 St & Amsterdam Ave': 3316, '3 Ave & 14 St': 3324, 'W 106 St & Central Park West': 3323, 'E 48 St & 5 Ave': 3233, 'S 5 Pl & S 4 St': 532, 'W 74 St & Columbus Ave': 3172, 'Henry St & Degraw St': 3315, 'Garfield Pl & 8 Ave': 3358, '6 Ave & Canal St': 377, 'East End Ave & E 86 St': 3157, 'Clinton St & Union St': 3321, 'E 59 St & Madison Ave': 3132, 'DeKalb Ave & Vanderbilt Ave': 258, 'Washington Pl & Broadway': 335, 'Maiden Ln & Pearl St': 264, 'E 68 St & 3 Ave': 3131, '3 St & 7 Ave': 3365, 'Driggs Ave & N Henry St': 3106, 'Pitt St & Stanton St': 400, 'Carroll St & Smith St': 3382, 'Fulton St & Waverly Ave': 3637, 'Degraw St & Smith St': 3329, '2 Ave & E 99 St': 3338, '35 St & 34 Ave': 3573, 'E 102 St & 1 Ave': 3351, '3 St & Prospect Park West': 3354, 'E 88 St & 1 Ave': 3288, 'Monroe St & Tompkins Ave': 3241, 'Bedford Ave & S 9 St': 443, 'W 46 St & 11 Ave': 508, 'E 80 St & 2 Ave': 3238, 'Halsey St & Tompkins Ave': 3047, 'W 43 St & 6 Ave': 524, 'Carroll St & Washington Ave': 3587, 'Fulton St & Adams St': 3440, 'Adam Clayton Powell Blvd & W 115 St': 3511, 'Bergen St & Vanderbilt Ave': 3558, 'W 44 St & 5 Ave': 484, 'Lefferts Pl & Franklin Ave': 396, 'Underhill Ave & Lincoln Pl': 3581, 'Cadman Plaza E & Red Cross Pl': 321, 'South St & Whitehall St': 259, 'Congress St & Clinton St': 3408, 'Madison Ave & E 120 St': 3503, '1 Ave & E 110 St': 3496, 'W 89 St & Columbus Ave': 3283, 'Cumberland St & Lafayette Ave': 416, 'Watts St & Greenwich St': 328, 'Park Ave & E 124 St': 3507, 'Avenue D & E 12 St': 339, 'Duane St & Greenwich St': 276, 'E 97 St & Madison Ave': 3336, 'E 106 St & Lexington Ave': 3424, 'E 55 St & 3 Ave': 3223, '31 Ave & Crescent St': 3605, '4 Ave & 2 St': 3371, 'Clermont Ave & Lafayette Ave': 420, 'E 103 St & Lexington Ave': 3379, 'W 55 St & 6 Ave': 3458, 'Hicks St & Montague St': 406, 'Bialystoker Pl & Delancey St': 356, 'Bus Slip & State St': 427, '12 St & 4 Ave': 3322, 'W 95 St & Broadway': 3314, 'Pike St & E Broadway': 295, 'Mercer St & Spring St': 303, 'Division St & Bowery': 296, 'Front St & Washington St': 2000, 'Amsterdam Ave & W 66 St': 3356, 'Columbus Ave & W 95 St': 3301, 'Riverside Dr & W 72 St': 3166, 'FDR Drive & E 35 St': 501, 'E 93 St & 2 Ave': 3296, 'Columbus Ave & W 103 St': 3302, 'Myrtle Ave & St Edwards St': 245, 'Flushing Ave & Vanderbilt Ave': 3648, 'Court St & Nelson St': 3397, 'Prospect Pl & Underhill Ave': 3574, 'Throop Ave & Myrtle Ave': 3061, 'E 5 St & Avenue C': 393, 'Degraw St & Hoyt St': 3332, 'W 100 St & Manhattan Ave': 3328, 'S 4 St & Wythe Ave': 460, 'South St & Gouverneur Ln': 315, '3 Ave & E 100 St': 3327, '3 Ave & E 112 St': 3551, '1 Pl & Clinton St': 3386, 'Washington Ave & Greene Ave': 275, '4 Ave & 9 St': 3403, 'Van Brunt St & Wolcott St': 3347, 'W 78 St & Broadway': 3162, 'Union Ave & N 12 St': 3096, 'Carroll St & Franklin Ave': 3590, 'W 92 St & Broadway': 3293, 'Greene Ave & Throop Ave': 3054, 'W 20 St & 11 Ave': 459, 'E 41 St & Madison Ave': 3235, 'W 26 St & 10 Ave': 388, 'Wyckoff St & 3 Ave': 3413, 'Columbia Heights & Cranberry St': 216, 'E 75 St & 3 Ave': 3135, 'Banker St & Meserole Ave': 3109, 'E 20 St & Park Ave': 503, 'Riverside Blvd & W 67 St': 3173, 'Fulton St & Grand Ave': 365, 'E 71 St & 1 Ave': 3447, 'Broadway & Battery Pl': 304, 'Morningside Ave & W 123 St': 3540, 'Greene Ave & Nostrand Ave': 3055, 'Berkeley Pl & 6 Ave': 3339, 'Lafayette St & Jersey St': 3427, 'Atlantic Ave & Fort Greene Pl': 83, 'Plaza St West & Flatbush Ave': 3418, 'E 66 St & Madison Ave': 3355, '31 Ave & 30 St': 3603, 'Eckford St & Engert Ave': 3449, 'Murray St & Greenwich St': 3461, 'Grand Army Plaza & Plaza St West': 3349, 'E 67 St & Park Ave': 3231, 'President St & Henry St': 3388, 'Riverside Dr & W 91 St': 3437, 'Marcus Garvey Blvd & Macon St': 3046, '37 St & 24 Ave': 3522, 'E 41 St & 5 Ave': 3643, 'Columbia St & Degraw St': 3422, 'Kane St & Clinton St': 3308, 'St Johns Pl & Washington Ave': 3580, 'W 82 St & Central Park West': 3226, 'Vernon Blvd & 31 Ave': 3609, '5 Ave & E 93 St': 3292, 'N 12 St & Bedford Ave': 3101, 'Union Ave & Wallabout St': 3065, 'Schermerhorn St & Court St': 3242, 'Broadway & 12 St': 3589, '2 Ave & 36 St - Citi Bike HQ at Industry City': 3478, 'Old Slip & Front St': 337, 'Lenox Ave & W 115 St': 3509, 'E 51 St & Lexington Ave': 522, '5 St & 6 Ave': 3405, 'Nassau St & Navy St': 144, 'Pacific St & Bedford Ave': 3548, 'Douglass St & 4 Ave': 3419, 'Pulaski St & Marcus Garvey Blvd': 3059, 'Broadway & W 38 St': 533, 'Pleasant Ave & E 120 St': 3498, 'DeKalb Ave & S Portland Ave': 241, '48 Ave & 30 Pl': 3647, 'Commerce St & Van Brunt St': 3392, 'W 120 St & Claremont Ave': 3623, 'Jackson St & Leonard St': 3456, 'Pier 40 - Hudson River Park': 3256, 'Park Pl & Franklin Ave': 3578, 'Broadway & W 25 St': 3641, 'Division Ave & Hooper St': 3073, 'Nassau Ave & Russell St': 3108, 'Cadman Plaza West & Montague St': 314, 'E 123 St & Lexington Ave': 3504, 'E 91 St & Park Ave': 3294, 'Willoughby St & Fleet St': 239, 'E 60 St & York Ave': 2022, 'Carroll St & Bond St': 3377, 'E 65 St & 2 Ave': 3376, '34 Ave & 21 St': 3577, '28 Ave & 35 St': 3617, 'Central Park West & W 102 St': 3341, 'Adam Clayton Powell Blvd & W 123 St': 3510, '46 Ave & 5 St': 3124, 'Broadway & Whipple St': 3067, 'Willoughby Ave & Tompkins Ave': 3060, 'Grand St & Greene St': 2010, 'Lewis Ave & Kosciuszko St': 3058, '7 St & 5 Ave': 3404, 'E 102 St & Park Ave': 3363, 'E 72 St & Park Ave': 3139, 'Douglass St & 3 Ave': 3420, 'Fulton St & Clermont Ave': 397, 'Concord St & Bridge St': 278, 'E 76 St & Park Ave': 3378, 'Eastern Pkwy & Washington Ave': 3583, 'Central Park West & W 100 St': 3320, 'Carroll St & Columbia St': 3389, 'Leonard St & Boerum St': 3072, '34 St & 35 Ave': 3568, 'S Portland Ave & Hanson Pl': 353, 'Atlantic Ave & Furman St': 398, '3 St & Hoyt St': 3381, 'Richards St & Delavan St': 3393, 'Sigourney St & Columbia St': 3352, 'Franklin Ave & Empire Blvd': 3599, '31 St & Broadway': 3593, 'Frederick Douglass Blvd & W 129 St': 3531, 'Carlton Ave & Dean St': 3537, 'E 95 St & 3 Ave': 3325, '28 St & 36 Ave': 3563, 'Ditmars Blvd & 19 St': 3532, '27 Ave & 9 St': 3621, 'Lexington Ave & E 63 St': 3155, 'Prospect Park West & 8 St': 3300, 'Lincoln Pl & Classon Ave': 3582, 'W 116 St & Amsterdam Ave': 3539, '5 Ave & E 88 St': 3282, '24 Ave & 29 St': 3523, 'Underhill Ave & Pacific St': 3544, 'Front St & Maiden Ln': 351, '34 Ave & 13 St': 3586, 'Classon Ave & St Marks Ave': 3562, 'Coffey St & Conover St': 3348, 'E 78 St & 2 Ave': 3370, 'Mt Morris Park W & W 120 St': 3535, 'Graham Ave & Herbert St': 3095, '48 Ave & 5 St': 3122, 'E 109 St & 3 Ave': 3390, '28 St & 41 Ave': 3555, '5 Ave & E 73 St': 3137, 'Vernon Blvd & 47 Rd': 3611, 'Crescent St & 35 Ave': 3566, 'Willoughby Ave & Walworth St': 373, 'Broadway & W 122 St': 3545, '10 St & 7 Ave': 3306, '5 Ave & E 126 St': 3527, 'Lenox Ave & W 111 St': 3521, 'Pacific St & Classon Ave': 3546, 'Emerson Pl & Myrtle Ave': 354, 'Marcy Ave & Lafayette Ave': 3053, 'Park Ave & St Edwards St': 119, 'Wolcott St & Dwight St': 3340, 'Union St & Nevins St': 3407, '34 Ave & 38 St': 3572, 'Putnam Ave & Nostrand Ave': 3048, 'Pleasant Ave & E 116 St': 3497, 'Lenox Ave & W 126 St': 3518, 'Monroe St & Classon Ave': 289, '10 St & 5 Ave': 3317, 'Columbia St & W 9 St': 3394, 'Butler St & Court St': 3303, 'Sands St & Navy St': 2001, 'Hancock St & Bedford Ave': 436, 'Pioneer St & Van Brunt St': 3344, 'Steinway St & 28 Ave': 3616, '19 St & 24 Ave': 3524, 'Center Blvd & 48 Ave': 3613, 'Pioneer St & Richards St': 3342, 'Frost St & Meeker St': 3091, 'E 116 St & 2 Ave': 3490, '11 St & 35 Ave': 3567, 'Devoe St & Lorimer St': 3453, '36 Ave & 10 St': 3565, '44 Dr & Jackson Ave': 3126, 'Humboldt St & Varet St': 3068, '28 St & 40 Ave': 3625, '30 Ave & 21 St': 3612, 'N 11 St & Wythe Ave': 3103, 'E 114 St & 1 Ave': 3495, 'E 97 St & 3 Ave': 3309, 'India St & West St': 3469, 'Crescent St & Ditmars Blvd': 3530, '37 Ave & 35 St': 3561, '35 St & Broadway': 3595, 'Lafayette Ave & Classon Ave': 364, 'Jackson Ave & 46 Rd': 3121, 'Crescent St & Broadway': 3592, '7 St & 3 Ave': 3399, 'Sterling St & Bedford Ave': 3601, 'McKibbin St & Manhattan Ave': 3070, 'E 118 St & 3 Ave': 3493, 'Henry St & W 9 St': 3395, 'St. Nicholas Ave & W 126 St': 3533, '3 St & 3 Ave': 3373, 'Lewis Ave & Decatur St': 3043, 'Bedford Ave & Bergen St': 3571, 'E 118 St & 1 Ave': 3491, 'Pearl St & Anchorage Pl': 414, 'E 115 St & Madison Ave': 3500, 'Lorimer St & Broadway': 3069, '24 Ave & 26 St': 3515, 'Amsterdam Ave & W 119 St': 3542, '49 Ave & 21 St': 3606, 'E 118 St & Madison Ave': 3501, '2 Ave & 9 St': 3401, 'Nostrand Ave & Myrtle Ave': 3063, 'W 15 St & 10 Ave': 3472, 'Park Ave & Marcus Garvey Blvd': 3179, 'W 129 St & Convent Ave': 3649, 'Albany Ave & Fulton St': 3044, '35 Ave & 10 St': 3646, '21 St & 31 Dr': 3591, 'Steinway St & 23 Ave': 3528, 'Vernon Blvd & 10 St': 3588, '27 St & Hunter St': 3618, '10 Hudson Yards': 3441, 'Union St & Bedford Ave': 3585, 'Lexington Ave & E 127 St': 3505, '9 St & 44 Rd': 3127, 'Vernon Blvd & 41 Rd': 3554, '21 St & 36 Ave': 3564, '39 St & 2 Ave - Citi Bike HQ at Industry City': 3477, 'Brooklyn Bridge Park - Pier 2': 3180, '11 St & 43 Ave': 3620, 'Dwight St & Van Dyke St': 3337, 'Center Blvd & Borden Ave': 3120, 'Columbia St & Lorraine St': 3333, 'Vernon Blvd & 30 Rd': 3610, '8D Mobile 01': 3650, '21 St & 38 Ave': 3559, 'Lexington Ave & E 120 St': 3506, 'Railroad Ave & Kay Ave': 2005, 'Amsterdam Ave & W 125 St': 3541, 'E 82 St & East End Ave': 3369, 'NYCBS Depot - STY - Garage 4': 3468, 'Montgomery St & Franklin Ave OLD': 3594, '8D OPS 01': 3036, 'NYCBS Depot - GOW': 3432, '40 Ave & 9 St': 3557, 'Crescent St & 34 Ave': 3575, 'Henry St & Bay St': 3330, '27 Ave & 4 St': 3512, '8D QC Station 01': 3488, 'W 59 St & 10 Ave': 422, 'W 52 St & 5 Ave': 520, 'E 55 St & Lexington Ave': 2023, 'E 47 St & 2 Ave': 164, 'E 47 St & Park Ave': 359, 'E 39 St & 2 Ave': 518, 'St James Pl & Pearl St': 82, 'E 39 St & 3 Ave': 167, 'Bressler': 3239, 'E 44 St & 2 Ave': 3462, 'E 13 St & Avenue A': 433, 'W 64 St & West End Ave': 3176, 'Sullivan Pl & Bedford Ave': 3596, 'E 48 St & 3 Ave': 228, 'Rivington St & Ridge St': 349, 'E 84 St & 1 Ave': 3148, '31 St & Northern Blvd': 3654, '31 St & 35 Ave': 3653, 'Perry St & Bleecker St': 247, 'Crown St & Bedford Ave': 3631, 'Morningside Dr & Amsterdam Ave': 3543, 'None': None}, value=324), Dropdown(description='end_station', options={'Washington Park': 262, '8 Ave & W 33 St': 490, '1 Ave & E 16 St': 504, 'Leonard St & Maujer St': 3454, 'E 11 St & 1 Ave': 326, '6 Ave & W 33 St': 505, 'W 42 St & 8 Ave': 529, 'St Marks Pl & 1 Ave': 438, 'Greenwich Ave & 8 Ave': 284, 'Canal St & Rutgers St': 307, 'Henry St & Grand St': 502, 'Christopher St & Greenwich St': 358, 'Sullivan St & Washington Sq': 336, '9 Ave & W 45 St': 479, 'University Pl & E 14 St': 382, 'Lexington Ave & E 29 St': 540, 'W 45 St & 8 Ave': 2021, 'Cooper Square & Astor Pl': 3263, 'E 33 St & 2 Ave': 527, 'Norfolk St & Broome St': 311, 'Banker St & Meserole Ave': 3109, 'E 47 St & 1 Ave': 516, 'W 21 St & 6 Ave': 435, 'Warren St & Church St': 152, 'E 15 St & 3 Ave': 297, '27 Ave & 9 St': 3621, 'W 106 St & Central Park West': 3323, 'St Marks Pl & 2 Ave': 236, 'E 52 St & 2 Ave': 441, 'Pier 40 - Hudson River Park': 3256, 'Dean St & 4 Ave': 467, 'W 34 St & 11 Ave': 525, 'McKibbin St & Manhattan Ave': 3070, '5 Ave & E 29 St': 474, 'E 2 St & Avenue C': 150, 'E 51 St & 1 Ave': 454, 'Centre St & Chambers St': 387, 'E 19 St & 3 Ave': 325, '7 St & 3 Ave': 3399, 'LaGuardia Pl & W 3 St': 161, 'E 9 St & Avenue C': 394, 'E 10 St & 5 Ave': 280, 'E 58 St & 1 Ave': 3243, '2 Ave & E 104 St': 3425, '1 Ave & E 30 St': 536, '1 Ave & E 94 St': 3312, 'Cleveland Pl & Spring St': 151, 'S 5 Pl & S 4 St': 532, 'Hope St & Union Ave': 3082, 'Park Pl & Vanderbilt Ave': 3576, '2 Ave & E 31 St': 528, 'West Drive & Prospect Park West': 3423, 'Central Park W & W 96 St': 3295, 'Lewis Ave & Madison St': 3052, 'Washington Ave & Park Ave': 313, 'Vernon Blvd & 50 Ave': 3119, 'Driggs Ave & Lorimer St': 3102, 'E 17 St & Broadway': 497, 'Howard St & Centre St': 268, 'Lewis Ave & Kosciuszko St': 3058, 'Hancock St & Bedford Ave': 436, 'W 13 St & 7 Ave': 223, 'W 70 St & Amsterdam Ave': 3175, 'Clinton Ave & Myrtle Ave': 366, 'E 10 St & Avenue A': 445, 'W 4 St & 7 Ave S': 380, 'West End Ave & W 107 St': 3366, 'Pershing Square North': 519, 'York St & Jay St': 430, 'Broadway & W 51 St': 500, 'E 4 St & 2 Ave': 439, 'Nassau Ave & Newell St': 3100, 'Centre St & Worth St': 386, '11 Ave & W 41 St': 478, '37 St & 24 Ave': 3522, 'Rivington St & Chrystie St': 473, 'W 52 St & 9 Ave': 449, 'West St & Chambers St': 426, 'Allen St & Stanton St': 312, 'Mott St & Prince St': 251, 'E 55 St & 2 Ave': 385, 'Halsey St & Tompkins Ave': 3047, 'W 46 St & 11 Ave': 508, 'Union Ave & Wallabout St': 3065, 'W 41 St & 8 Ave': 477, 'Cumberland St & Lafayette Ave': 416, 'Allen St & Rivington St': 401, 'Hoyt St & Warren St': 3421, 'Suffolk St & Stanton St': 410, 'Lenox Ave & W 115 St': 3509, 'South St & Gouverneur Ln': 315, 'Reade St & Broadway': 330, 'Lexington Ave & E 24 St': 537, 'Ditmars Blvd & 19 St': 3532, 'S 3 St & Bedford Ave': 481, 'Berry St & N 8 St': 3092, 'MacDougal St & Prince St': 128, 'Forsyth St & Broome St': 531, 'Liberty St & Broadway': 195, 'Baltic St & 5 Ave': 3417, 'E 85 St & York Ave': 3150, 'Amsterdam Ave & W 73 St': 3167, 'W 13 St & Hudson St': 3224, 'E 41 St & 5 Ave': 3643, 'West Thames St': 363, '31 Ave & 14 St': 3607, 'E 102 St & Park Ave': 3363, 'E 103 St & Lexington Ave': 3379, 'India St & Manhattan Ave': 3115, 'Driggs Ave & N Henry St': 3106, 'Lafayette St & E 8 St': 293, 'Warren St & Court St': 3298, 'W 33 St & 7 Ave': 492, 'Central Park West & W 72 St': 3165, 'Lexington Ave & E 127 St': 3505, 'McGuinness Blvd & Eagle St': 3118, 'E 25 St & 1 Ave': 174, 'Division Ave & Hooper St': 3073, 'E 7 St & Avenue A': 432, 'St James Pl & Oliver St': 308, 'Metropolitan Ave & Meeker Ave': 3087, 'E 11 St & 2 Ave': 237, 'E 20 St & Park Ave': 503, 'Lexington Ave & Classon Ave': 120, 'Eastern Pkwy & Washington Ave': 3583, 'Fulton St & Waverly Ave': 3637, 'E 78 St & 2 Ave': 3370, 'Monroe St & Bedford Ave': 344, '45 Rd & 11 St': 3125, 'W 95 St & Broadway': 3314, 'Bergen St & Flatbush Ave': 3414, 'Broadway & W 58 St': 457, 'E 110 St & Madison Ave': 3400, 'E 35 St & 3 Ave': 3431, 'Clark St & Henry St': 391, 'South End Ave & Liberty St': 3002, '36 Ave & 10 St': 3565, 'Humboldt St & Varet St': 3068, 'E 25 St & 2 Ave': 507, 'E 16 St & Irving Pl': 3463, 'Cherry St': 332, '1 Ave & E 18 St': 2003, 'Broadway & W 29 St': 486, 'W 90 St & Amsterdam Ave': 3289, 'MacDougal St & Washington Sq': 252, 'Graham Ave & Conselyea St': 3086, 'W 76 St & Columbus Ave': 3161, '3 Ave & E 112 St': 3551, 'Vesey Pl & River Terrace': 327, 'Broadway & W 41 St': 465, 'Pitt St & Stanton St': 400, 'Lefferts Pl & Franklin Ave': 396, 'Stanton St & Chrystie St': 265, 'W 52 St & 11 Ave': 72, 'E 116 St & 2 Ave': 3490, 'Columbus Ave & W 72 St': 3164, 'Pulaski St & Marcus Garvey Blvd': 3059, 'W Broadway & Spring Street': 3467, 'Columbia St & Rivington St': 342, 'Richardson St & N Henry St': 3430, 'W 22 St & 8 Ave': 453, 'Henry St & Poplar St': 407, 'E 106 St & 1 Ave': 3391, 'Columbia St & Degraw St': 3422, 'W 27 St & 7 Ave': 442, 'Union St & Nevins St': 3407, 'Bayard St & Baxter St': 355, 'N 8 St & Driggs Ave': 3090, 'Grand Army Plaza & Plaza St West': 3349, 'E 20 St & 2 Ave': 461, 'Carlton Ave & Park Ave': 419, 'Carroll St & Smith St': 3382, 'Clinton St & Grand St': 350, 'Carmine St & 6 Ave': 368, 'E 118 St & Madison Ave': 3501, 'Willoughby Ave & Hall St': 244, 'Barrow St & Hudson St': 127, 'Cliff St & Fulton St': 306, 'Clinton St & 4 Place': 3396, 'Bond St & Bergen St': 3411, 'Barclay St & Church St': 417, 'Pacific St & Bedford Ave': 3548, 'Cadman Plaza West & Montague St': 314, 'E 12 St & 3 Ave': 483, 'E 88 St & 1 Ave': 3288, 'E 30 St & Park Ave S': 546, 'Broadway & E 22 St': 402, 'W 22 St & 10 Ave': 462, 'Pleasant Ave & E 116 St': 3497, 'W 45 St & 6 Ave': 3466, 'Crescent St & Broadway': 3592, 'E 12 St & Avenue B': 3632, 'St Johns Pl & Washington Ave': 3580, 'Schermerhorn St & 3 Ave': 3455, 'Broadway & W 49 St': 173, 'Mercer St & Bleecker St': 3260, 'Carlton Ave & Flushing Ave': 242, '14 St & 5 Ave': 3319, 'Allen St & Hester St': 361, '1 Ave & E 44 St': 455, 'Madison St & Clinton St': 340, 'Broadway & E 14 St': 285, 'E 45 St & 3 Ave': 440, 'E 95 St & 3 Ave': 3325, 'Avenue D & E 8 St': 266, 'Greenwich Ave & Charles St': 383, 'W 63 St & Broadway': 3158, 'Cadman Plaza E & Tillary St': 232, 'Adam Clayton Powell Blvd & W 118 St': 3520, 'Riverside Blvd & W 67 St': 3173, 'Riverside Dr & W 72 St': 3166, 'Broadway & Battery Pl': 304, 'Verona Pl & Fulton St': 3249, 'W 37 St & 10 Ave': 448, 'W 56 St & 10 Ave': 513, 'E 11 St & Broadway': 357, 'E 71 St & 1 Ave': 3447, 'W 16 St & The High Line': 212, 'Broadway & Berry St': 389, 'Court St & Nelson St': 3397, 'Broadway & W 32 St': 498, 'Grand St & Elizabeth St': 3435, 'Broadway & Roebling St': 3078, 'Jackson Ave & 46 Rd': 3121, 'Catherine St & Monroe St': 2009, 'W 20 St & 8 Ave': 470, 'W 107 St & Columbus Ave': 3343, 'W 67 St & Broadway': 3159, 'Columbus Ave & W 95 St': 3301, 'Harrison St & Hudson St': 249, 'W 15 St & 7 Ave': 482, 'Amsterdam Ave & W 82 St': 3171, 'E 20 St & FDR Drive': 487, 'Pearl St & Hanover Square': 415, 'W 11 St & 6 Ave': 254, 'Carroll St & 5 Ave': 3364, 'Lawrence St & Willoughby St': 323, '31 St & 23 Ave': 3526, 'E 31 St & 3 Ave': 476, 'W 20 St & 11 Ave': 459, 'Lafayette Ave & Classon Ave': 364, 'William St & Pine St': 360, 'Nassau Ave & Russell St': 3108, '3 St & Prospect Park West': 3354, 'Schermerhorn St & Bond St': 3486, 'E 2 St & 2 Ave': 403, '2 Ave & E 99 St': 3338, 'S 4 St & Wythe Ave': 460, 'W 49 St & 8 Ave': 450, 'Bialystoker Pl & Delancey St': 356, 'Pike St & E Broadway': 295, 'W 24 St & 7 Ave': 446, '5 St & 6 Ave': 3405, '28 St & 36 Ave': 3563, 'Bank St & Hudson St': 346, 'Market St & Cherry St': 408, '11 Ave & W 59 St': 530, 'Underhill Ave & Lincoln Pl': 3581, 'FDR Drive & E 35 St': 501, '31 St & Hoyt Ave N': 3517, 'Leonard St & Boerum St': 3072, 'Kosciuszko St & Tompkins Ave': 3057, '8 Ave & W 52 St': 447, '3 St & Hoyt St': 3381, 'Myrtle Ave & Lewis Ave': 3064, 'W 82 St & Central Park West': 3226, 'St Nicholas Ave & Manhattan Ave': 3508, 'E 16 St & 5 Ave': 496, 'Bedford Ave & S 9 St': 443, 'E 32 St & Park Ave': 472, 'Hudson St & Reade St': 146, 'W 26 St & 8 Ave': 494, 'Broadway & W 37 St': 362, 'Macon St & Nostrand Ave': 437, '4 Ave & 2 St': 3371, 'Columbia St & Kane St': 3311, 'Madison Ave & E 82 St': 3362, '2 Ave & E 122 St': 3499, '1 Pl & Clinton St': 3386, 'E 72 St & York Ave': 3156, 'Washington Pl & 6 Ave': 369, 'N 11 St & Wythe Ave': 3103, 'Broadway & W 122 St': 3545, 'Fulton St & Broadway': 319, 'W 55 St & 6 Ave': 3458, '28 Ave & 35 St': 3617, 'W 78 St & Broadway': 3162, 'N 6 St & Bedford Ave': 3093, 'E 6 St & Avenue B': 317, 'E 24 St & Park Ave S': 491, 'Forsyth St & Canal St': 412, 'Central Park West & W 100 St': 3320, 'Bedford Ave & Nassau Ave': 3107, 'Grand Ave & Bergen St': 3549, 'Front St & Gold St': 418, 'John St & William St': 376, 'Amsterdam Ave & W 79 St': 3360, 'E 2 St & Avenue B': 301, 'Kent Ave & N 7 St': 3016, 'Pioneer St & Richards St': 3342, 'Lispenard St & Broadway': 257, 'W 31 St & 7 Ave': 379, '1 Ave & E 78 St': 3140, 'E 115 St & Lexington Ave': 3494, 'E 98 St & Lexington Ave': 3642, 'Old Fulton St': 217, 'Eckford St & Engert Ave': 3449, 'Murray St & West St': 309, 'Henry St & Atlantic Ave': 157, '5 Ave & E 88 St': 3282, 'Putnam Ave & Nostrand Ave': 3048, 'W 36 St & 9 Ave': 3635, 'Franklin Ave & St Marks Ave': 3569, '9 Ave & W 22 St': 509, 'W 113 St & Broadway': 3552, 'Throop Ave & Myrtle Ave': 3061, 'E 89 St & 3 Ave': 3286, 'Kosciuszko St & Nostrand Ave': 3056, 'W 84 St & Columbus Ave': 3170, '10 St & 5 Ave': 3317, 'Clinton Ave & Flushing Ave': 343, 'Broadway & W 56 St': 468, 'Bushwick Ave & Powers St': 3083, 'Amsterdam Ave & W 66 St': 3356, 'Fulton St & Utica Ave': 3042, '47 Ave & 31 St': 3221, 'Lenox Ave & W 130 St': 3529, 'E 91 St & 2 Ave': 3305, '5 Ave & E 126 St': 3527, 'W 100 St & Manhattan Ave': 3328, '6 St & 7 Ave': 3297, 'University Pl & E 8 St': 3244, 'Court St & State St': 3402, 'Washington St & Gansevoort St': 405, 'S 4 St & Rodney St': 3080, 'Carroll St & 6 Ave': 3361, 'W 42 St & Dyer Ave': 3236, 'W 25 St & 6 Ave': 466, 'Grand Army Plaza & Central Park S': 281, '2 Ave & 36 St - Citi Bike HQ at Industry City': 3478, 'Frederick Douglass Blvd & W 112 St': 3553, 'W 52 St & 6 Ave': 3443, 'E 75 St & 3 Ave': 3135, 'Fulton St & Rockwell Pl': 243, 'Central Park North & Adam Clayton Powell Blvd': 3374, 'N 15 St & Wythe Ave': 3105, 'E 65 St & 2 Ave': 3376, 'South St & Whitehall St': 259, 'Avenue D & E 3 St': 302, '8 Ave & W 31 St': 3255, 'W 38 St & 8 Ave': 523, 'Front St & Maiden Ln': 351, 'Cathedral Pkwy & Broadway': 3383, 'Hanson Pl & Ashland Pl': 3429, 'E 115 St & Madison Ave': 3500, 'E 6 St & Avenue D': 411, '2 Ave & E 96 St': 3318, '7 St & 5 Ave': 3404, 'Lexington Ave & E 111 St': 3502, 'Laight St & Hudson St': 248, '6 Ave & Canal St': 377, 'W 20 St & 7 Ave': 334, 'E 97 St & Madison Ave': 3336, 'W 37 St & 5 Ave': 485, 'E 27 St & 1 Ave': 2012, 'Washington Pl & Broadway': 335, '1 Ave & E 68 St': 3141, '28 St & 41 Ave': 3555, '12 Ave & W 40 St': 514, 'Broadway & W 25 St': 3641, 'W 26 St & 10 Ave': 388, '11 Ave & W 27 St': 458, 'Leonard St & Church St': 320, 'W 54 St & 9 Ave': 423, 'Pacific St & Nevins St': 3412, 'Franklin St & W Broadway': 79, '31 St & Broadway': 3593, 'W 53 St & 10 Ave': 480, 'E 81 St & 3 Ave': 3146, 'Concord St & Bridge St': 278, 'E 58 St & 3 Ave': 305, 'E 33 St & 5 Ave': 526, 'E 48 St & 5 Ave': 3233, '5 Ave & E 103 St': 3367, 'E 51 St & Lexington Ave': 522, 'E 55 St & 3 Ave': 3223, '37 Ave & 35 St': 3561, 'Madison St & Montgomery St': 291, 'W 92 St & Broadway': 3293, 'Central Park S & 6 Ave': 2006, 'Front St & Washington St': 2000, 'E 53 St & Madison Ave': 456, 'E 59 St & Madison Ave': 3132, 'E 89 St & York Ave': 3290, 'Broadway & W 53 St': 469, 'Broadway & W 60 St': 499, 'Watts St & Greenwich St': 328, 'Bergen St & Vanderbilt Ave': 3558, '31 St & Astoria Blvd': 3516, 'E 91 St & Park Ave': 3294, 'Great Jones St': 229, 'Metropolitan Ave & Bedford Ave': 539, 'E 68 St & 3 Ave': 3131, 'E 114 St & 1 Ave': 3495, 'Madison Ave & E 99 St': 3345, 'E 53 St & 3 Ave': 3459, 'N 12 St & Bedford Ave': 3101, 'W 44 St & 5 Ave': 484, 'Wythe Ave & Metropolitan Ave': 2002, 'Grand St & Greene St': 2010, 'E 23 St & 1 Ave': 545, 'Broad St & Bridge St': 260, 'E 81 St & York Ave': 3151, 'Huron St & Franklin St': 3116, 'Broadway & W 36 St': 267, 'Cadman Plaza E & Red Cross Pl': 321, 'Berkeley Pl & 7 Ave': 3346, 'DeKalb Ave & Hudson Ave': 324, 'Maiden Ln & Pearl St': 264, 'Union St & 4 Ave': 3335, 'W 13 St & 5 Ave': 253, '6 Ave & 9 St': 3304, 'W 13 St & 6 Ave': 345, 'W 18 St & 6 Ave': 168, 'Adam Clayton Powell Blvd & W 123 St': 3510, 'Little West St & 1 Pl': 2008, 'E 85 St & 3 Ave': 3147, 'W 116 St & Broadway': 3536, 'Graham Ave & Herbert St': 3095, '11 St & 43 Ave': 3620, 'E 97 St & 3 Ave': 3309, 'Division Ave & Marcy Ave': 3075, 'W 43 St & 10 Ave': 515, '5 Ave & E 63 St': 3136, 'Central Park West & W 68 St': 3163, 'Commerce St & Van Brunt St': 3392, 'Prospect Park West & 8 St': 3300, 'W 43 St & 6 Ave': 524, '1 Ave & E 62 St': 3142, 'Pershing Square South': 517, 'E 109 St & 3 Ave': 3390, '10 St & 7 Ave': 3306, 'Old Slip & Front St': 337, 'Lafayette Ave & St James Pl': 399, 'E 123 St & Lexington Ave': 3504, 'Willoughby St & Fleet St': 239, 'Marcus Garvey Blvd & Macon St': 3046, 'E 74 St & 1 Ave': 3372, 'Fulton St & Adams St': 3440, 'W 87 St & Amsterdam Ave': 3285, 'Schermerhorn St & Court St': 3242, '14 St & 7 Ave': 3310, 'W 15 St & 10 Ave': 3472, '34 Ave & 38 St': 3572, 'E 41 St & Madison Ave': 3235, 'Eastern Pkwy & Franklin Ave': 3584, 'Franklin St & Dupont St': 3117, '6 Ave & Spring St': 3474, 'Park Ave & E 124 St': 3507, 'Plaza St West & Flatbush Ave': 3418, 'Duane St & Greenwich St': 276, 'Greenwich St & W Houston St': 347, 'Lexington Ave & E 63 St': 3155, 'Carroll St & Washington Ave': 3587, '3 Ave & E 62 St': 3134, 'Broadway & Moylan Pl': 3547, 'DeKalb Ave & Vanderbilt Ave': 258, 'Degraw St & Hoyt St': 3332, '5 Ave & E 73 St': 3137, 'Water - Whitehall Plaza': 534, 'Hicks St & Montague St': 406, 'E 76 St & Park Ave': 3378, 'India St & West St': 3469, 'Division St & Bowery': 296, 'Bus Slip & State St': 427, 'Greenpoint Ave & Manhattan Ave': 3113, 'Lafayette St & Jersey St': 3427, 'Mercer St & Spring St': 303, 'Avenue D & E 12 St': 339, 'Riverside Dr & W 104 St': 3331, '9 St & 44 Rd': 3127, '3 St & 3 Ave': 3373, 'Kent Ave & S 11 St': 282, 'W 116 St & Amsterdam Ave': 3539, 'Atlantic Ave & Fort Greene Pl': 83, 'W 47 St & 10 Ave': 495, 'NYCBS Depot - GOW': 3432, 'Pike St & Monroe St': 331, 'Duffield St & Willoughby St': 390, 'Murray St & Greenwich St': 3461, 'Douglass St & 3 Ave': 3420, 'Johnson St & Gold St': 261, '5 Ave & E 78 St': 3143, 'E 80 St & 2 Ave': 3238, 'Riverside Dr & W 78 St': 3178, 'Clinton St & Joralemon St': 143, 'Bergen St & Smith St': 3409, 'Broadway & W 38 St': 533, 'Sigourney St & Columbia St': 3352, 'Graham Ave & Grand St': 3081, 'Union Ave & N 12 St': 3096, 'W 104 St & Amsterdam Ave': 3316, 'Bond St & Fulton St': 3232, '10 Hudson Yards': 3441, 'W 84 St & Broadway': 3177, 'Park Ave & St Edwards St': 119, 'Smith St & 9 St': 3398, 'Franklin Ave & Empire Blvd': 3599, 'Riverside Dr & W 91 St': 3437, 'Jay St & Tech Pl': 392, 'W 100 St & Broadway': 3350, 'Gold St & Frankfort St': 3489, 'Milton St & Franklin St': 3112, 'W 27 St & 10 Ave': 3258, 'W 74 St & Columbus Ave': 3172, 'E 84 St & Park Ave': 3145, 'W 89 St & Columbus Ave': 3283, 'Central Park West & W 85 St': 3168, 'Douglass St & 4 Ave': 3419, 'Peck Slip & Front St': 279, 'Wolcott St & Dwight St': 3340, 'Atlantic Ave & Furman St': 398, 'W 88 St & West End Ave': 3434, 'Meserole Ave & Manhattan Ave': 3110, 'Tompkins Ave & Hopkins St': 3066, 'Crescent St & 30 Ave': 3614, '3 Ave & E 100 St': 3327, 'Myrtle Ave & Marcy Ave': 3062, 'E 60 St & York Ave': 2022, 'Lafayette Ave & Fort Greene Pl': 274, 'Pacific St & Classon Ave': 3546, 'E 66 St & Madison Ave': 3355, '35 St & Broadway': 3595, 'Carroll St & Bond St': 3377, 'E 106 St & Madison Ave': 3387, 'E 76 St & 3 Ave': 3438, 'Montrose Ave & Bushwick Ave': 3074, 'Underhill Ave & Pacific St': 3544, 'E 88 St & Park Ave': 3284, '3 Ave & E 72 St': 3375, 'Boerum St & Broadway': 3071, '35 St & 34 Ave': 3573, 'Carlton Ave & Dean St': 3537, 'Devoe St & Lorimer St': 3453, 'Congress St & Clinton St': 3408, 'West End Ave & W 94 St': 3307, '39 St & 2 Ave - Citi Bike HQ at Industry City': 3477, 'E 102 St & 1 Ave': 3351, 'Grand St & Havemeyer St': 471, '4 Ave & 9 St': 3403, 'President St & Henry St': 3388, 'Kingston Ave & Herkimer St': 3041, '9 Ave & W 28 St': 3259, 'Lorimer St & Broadway': 3069, 'Lexington Ave & E 120 St': 3506, '3 St & 7 Ave': 3365, 'Putnam Ave & Throop Ave': 3050, 'DeKalb Ave & Skillman St': 409, 'Albany Ave & Fulton St': 3044, 'Scholes St & Manhattan Ave': 3076, 'E 72 St & Park Ave': 3139, '44 Dr & 21 St': 3615, 'Cambridge Pl & Gates Ave': 3049, 'Prospect Pl & 6 Ave': 3415, 'DeKalb Ave & S Portland Ave': 241, 'Railroad Ave & Kay Ave': 2005, '3 Ave & E 71 St': 3152, 'Willoughby Ave & Tompkins Ave': 3060, 'Pleasant Ave & E 120 St': 3498, 'Carroll St & Columbia St': 3389, 'Riverside Dr & W 82 St': 3169, 'Morningside Ave & W 123 St': 3540, 'Broadway & Whipple St': 3067, 'Bank St & Washington St': 238, 'Dean St & Hoyt St': 3410, 'Adam Clayton Powell Blvd & W 115 St': 3511, 'Myrtle Ave & St Edwards St': 245, 'Central Park West & W 102 St': 3341, '31 Ave & 30 St': 3603, '5 Ave & E 93 St': 3292, '40 Ave & 9 St': 3557, 'Henry St & Degraw St': 3315, 'Pearl St & Anchorage Pl': 414, 'Clinton St & Tillary St': 322, '21 St & 43 Ave': 3128, '6 Ave & 12 St': 3313, 'Roebling St & N 4 St': 3085, 'Queens Plaza North & Crescent St': 3129, '2 Ave & 9 St': 3401, '21 St & Hoyt Ave S': 3513, 'W 110 St & Amsterdam Ave': 3538, 'Clinton St & Union St': 3321, 'State St & Smith St': 310, 'Van Dyke St & Van Brunt St': 3644, 'Van Brunt St & Wolcott St': 3347, 'Washington Ave & Greene Ave': 275, '5 Ave & 3 St': 3368, '44 Dr & Jackson Ave': 3126, '49 Ave & 21 St': 3606, 'Nassau St & Navy St': 144, 'W 129 St & Convent Ave': 3649, 'S Portland Ave & Hanson Pl': 353, 'Broadway & 12 St': 3589, '48 Ave & 5 St': 3122, 'W 106 St & Amsterdam Ave': 3357, '46 Ave & 5 St': 3124, 'Marcy Ave & Lafayette Ave': 3053, 'E 5 St & Avenue C': 393, 'Bayard St & Leonard St': 3452, '43 St & Broadway': 3597, 'E 68 St & Madison Ave': 3359, 'Wyckoff St & 3 Ave': 3413, 'Newton Rd & 44 St': 3598, 'Columbia Heights & Cranberry St': 216, '31 St & Thomson Ave': 3123, 'Kane St & Clinton St': 3308, 'Columbia St & Lorraine St': 3333, 'Montgomery St & Franklin Ave OLD': 3594, 'Sands St & Navy St': 2001, 'Smith St & 3 St': 3384, 'E 118 St & 1 Ave': 3491, 'E 67 St & Park Ave': 3231, 'Flushing Ave & Vanderbilt Ave': 3648, 'Amsterdam Ave & W 119 St': 3542, 'Greene Ave & Nostrand Ave': 3055, 'E 93 St & 2 Ave': 3296, 'E 106 St & Lexington Ave': 3424, 'Vernon Blvd & 47 Rd': 3611, 'Vernon Blvd & 30 Rd': 3610, '1 Ave & E 110 St': 3496, 'Frederick Douglass Blvd & W 129 St': 3531, 'Vernon Blvd & 31 Ave': 3609, '21 St & Queens Plaza North': 3130, 'Graham Ave & Withers St': 3094, 'Stanton St & Mangin St': 341, '3 Ave & 14 St': 3324, '24 Ave & 29 St': 3523, '12 St & 4 Ave': 3322, 'E 128 St & Madison Ave': 3622, 'Clermont Ave & Lafayette Ave': 420, 'Madison Ave & E 120 St': 3503, '24 Ave & 26 St': 3515, 'E 81 St & Park Ave': 3144, 'Degraw St & Smith St': 3329, '35 Ave & 10 St': 3646, 'St. Nicholas Ave & W 126 St': 3533, 'Lewis Ave & Decatur St': 3043, 'Stagg St & Union Ave': 3077, 'Park Ave & Marcus Garvey Blvd': 3179, 'Sterling St & Bedford Ave': 3601, 'Sterling Pl & Bedford Ave': 3579, '34 St & 35 Ave': 3568, 'Lenox Ave & W 126 St': 3518, 'Frederick Douglass Blvd & W 117 St': 3534, 'Rogers Ave & Sterling St': 3604, 'Dwight St & Van Dyke St': 3337, 'Lincoln Pl & Classon Ave': 3582, 'Franklin Ave & Myrtle Ave': 372, '27 St & Hunter St': 3618, 'Lenox Ave & W 111 St': 3521, 'Central Park West & W 76 St': 3160, 'Greene Ave & Throop Ave': 3054, 'Mt Morris Park W & W 120 St': 3535, 'Emerson Pl & Myrtle Ave': 354, 'East End Ave & E 86 St': 3157, 'Butler St & Court St': 3303, '35 Ave & 37 St': 3570, 'Union Ave & Jackson St': 3088, 'Bedford Ave & Bergen St': 3571, 'E 118 St & 3 Ave': 3493, '48 Ave & 30 Pl': 3647, '24 St & 41 Ave': 3556, 'Nostrand Ave & Myrtle Ave': 3063, '28 St & 38 Ave': 3560, 'Monroe St & Tompkins Ave': 3241, 'Fulton St & Grand Ave': 365, 'Coffey St & Conover St': 3348, 'Steinway St & 28 Ave': 3616, 'Garfield Pl & 8 Ave': 3358, 'Berkeley Pl & 6 Ave': 3339, 'Crescent St & Ditmars Blvd': 3530, 'Adelphi St & Myrtle Ave': 270, 'Monroe St & Classon Ave': 289, 'Center Blvd & 48 Ave': 3613, 'Pioneer St & Van Brunt St': 3344, 'Prospect Pl & Underhill Ave': 3574, '28 St & 40 Ave': 3625, 'Steinway St & 23 Ave': 3528, 'Clinton St & Centre St': 3326, 'Vernon Blvd & 10 St': 3588, 'Frost St & Meeker St': 3091, 'E 118 St & Park Ave': 3492, 'Columbia St & W 9 St': 3394, 'Classon Ave & St Marks Ave': 3562, '30 Ave & 21 St': 3612, '34 Ave & 13 St': 3586, '21 St & 31 Dr': 3591, 'Clermont Ave & Park Ave': 421, 'Brooklyn Bridge Park - Pier 2': 3180, 'Astoria Park S & Shore Blvd': 3514, 'Henry St & W 9 St': 3395, '34 Ave & 21 St': 3577, 'Jackson St & Leonard St': 3456, 'W 120 St & Claremont Ave': 3623, 'Columbus Ave & W 103 St': 3302, '23 Ave & 27 St': 3525, 'Carroll St & Franklin Ave': 3590, '21 St & 38 Ave': 3559, 'Union St & Bedford Ave': 3585, '31 Ave & 34 St': 3602, 'Fulton St & Clermont Ave': 397, 'Willoughby Ave & Walworth St': 373, 'Newtown Ave & 23 St': 3619, '8D Mobile 01': 3650, 'Richards St & Delavan St': 3393, 'Center Blvd & Borden Ave': 3120, 'E 82 St & East End Ave': 3369, '19 St & 24 Ave': 3524, 'Amsterdam Ave & W 125 St': 3541, 'Park Pl & Franklin Ave': 3578, 'Crescent St & 35 Ave': 3566, 'Crescent St & 34 Ave': 3575, '8D OPS 01': 3036, '8D QC Station 01': 3488, '11 St & 35 Ave': 3567, 'Jersey & 6th St': 3270, '31 Ave & Crescent St': 3605, 'Vernon Blvd & 41 Rd': 3554, 'Henry St & Bay St': 3330, '27 Ave & 4 St': 3512, '21 St & 36 Ave': 3564, 'NYCBS Depot - STY - Garage 4': 3468, 'NYCBS DEPOT - DELANCEY': 3245, 'W 59 St & 10 Ave': 422, 'W 52 St & 5 Ave': 520, 'E 55 St & Lexington Ave': 2023, 'E 47 St & 2 Ave': 164, 'E 47 St & Park Ave': 359, 'E 39 St & 2 Ave': 518, 'St James Pl & Pearl St': 82, 'E 39 St & 3 Ave': 167, 'Bressler': 3239, 'Sullivan Pl & Bedford Ave': 3596, 'E 44 St & 2 Ave': 3462, 'E 13 St & Avenue A': 433, 'NYCBS Depot BAL - DYR': 3240, 'W 64 St & West End Ave': 3176, 'E 48 St & 3 Ave': 228, 'Rivington St & Ridge St': 349, 'Heights Elevator': 3198, 'E 84 St & 1 Ave': 3148, 'Pathmark Depot': 3645, '31 St & Northern Blvd': 3654, 'Columbus Drive': 3275, '31 St & 35 Ave': 3653, 'Perry St & Bleecker St': 247, 'Morningside Dr & Amsterdam Ave': 3543, 'Crown St & Bedford Ave': 3631, 'None': None}, value=262), Dropdown(description='hour', options={1: 0, 2: 1, 3: 2, 4: 3, 5: 4, 6: 5, 7: 6, 8: 7, 9: 8, 10: 9, 11: 10, 12: 11, 13: 12, 14: 13, 15: 14, 16: 15, 17: 16, 18: 17, 19: 18, 20: 19, 21: 20, 22: 21, 23: 22, 24: 23}, value=0), Dropdown(description='tiles', options={'Mapbox Bright': 'Mapbox Bright', 'Mapbox Control Room': 'Mapbox Control Room', 'OpenStreetMap': 'OpenStreetMap', 'Stamen Toner': 'Stamen Toner', 'Stamen Terrain': 'Stamen Terrain', 'CartoDBDark': 'CartoDB dark_matter'}, value='Mapbox Bright'), Output()), _dom_classes=('widget-interact',))"
      ]
     },
     "metadata": {},
     "output_type": "display_data"
    },
    {
     "data": {
      "text/plain": [
       "<function __main__.f>"
      ]
     },
     "execution_count": 18,
     "metadata": {},
     "output_type": "execute_result"
    }
   ],
   "source": [
    "!conda remove nbpresent\n",
    "\n",
    "def f(start_station,end_station,hour,tiles):\n",
    "    fig = branca.element.Figure()\n",
    "    if(start_station==None and end_station==None):\n",
    "        #hour_val = val[val[\"hour\"]==hour]\n",
    "        val=trip_by_hour(hour)\n",
    "        #print(val.head())\n",
    "        return plot_station_by_hour(val,tiles)\n",
    "    elif(end_station==None):\n",
    "        val = data[(data[\"start station id\"]==start_station)]\n",
    "        val = val.loc[:,[\"bikeid\",\"start station name\" , \"end station name\", \"start station longitude\",\"start station latitude\",\"hour\",\"end station latitude\",\"end station longitude\",\"start station id\",\"end station id\"]]\n",
    "        hour_val = val[val[\"hour\"]==hour]\n",
    "        route_other(start_station,fig)\n",
    "        #print(hour_val)\n",
    "        #return(plot_station(hour_val))\n",
    "    elif(start_station==None):\n",
    "        val = data[(data[\"end station id\"]==end_station)]\n",
    "        val = val.loc[:,[\"bikeid\",\"start station longitude\",\"start station name\" , \"end station name\",\"start station latitude\",\"hour\",\"end station latitude\",\"end station longitude\",\"start station id\",\"end station id\"]]\n",
    "        hour_val = val[val[\"hour\"]==hour]\n",
    "        route_other(end_station,fig)\n",
    "        #return(plot_station(hour_val))\n",
    "    else:\n",
    "        val = data[(data[\"start station id\"]==start_station) & (data[\"end station id\"]==end_station)]\n",
    "        val = val.loc[:,[\"bikeid\",\"start station longitude\",\"start station name\" , \"end station name\",\"start station latitude\",\"hour\",\"end station latitude\",\"end station longitude\",\"start station id\",\"end station id\"]]\n",
    "        hour_val = val[val[\"hour\"]==hour]\n",
    "        route(start_station,end_station,fig)\n",
    "    return fig.add_child(plot_station(hour_val,tiles,val))\n",
    "    \n",
    "\n",
    "interact(f,start_station=start_stations,end_station=end_stations,hour=hour,tiles=map_options)\n"
   ]
  },
  {
   "cell_type": "markdown",
   "metadata": {},
   "source": [
    "## Heat Map using Speed and Day of the Week"
   ]
  },
  {
   "cell_type": "code",
   "execution_count": 12,
   "metadata": {},
   "outputs": [
    {
     "data": {
      "text/html": [
       "<div>\n",
       "<style scoped>\n",
       "    .dataframe tbody tr th:only-of-type {\n",
       "        vertical-align: middle;\n",
       "    }\n",
       "\n",
       "    .dataframe tbody tr th {\n",
       "        vertical-align: top;\n",
       "    }\n",
       "\n",
       "    .dataframe thead th {\n",
       "        text-align: right;\n",
       "    }\n",
       "</style>\n",
       "<table border=\"1\" class=\"dataframe\">\n",
       "  <thead>\n",
       "    <tr style=\"text-align: right;\">\n",
       "      <th></th>\n",
       "      <th>index</th>\n",
       "      <th>speed</th>\n",
       "    </tr>\n",
       "  </thead>\n",
       "  <tbody>\n",
       "    <tr>\n",
       "      <th>0</th>\n",
       "      <td>6</td>\n",
       "      <td>229745</td>\n",
       "    </tr>\n",
       "    <tr>\n",
       "      <th>1</th>\n",
       "      <td>5</td>\n",
       "      <td>192427</td>\n",
       "    </tr>\n",
       "    <tr>\n",
       "      <th>2</th>\n",
       "      <td>7</td>\n",
       "      <td>160004</td>\n",
       "    </tr>\n",
       "    <tr>\n",
       "      <th>3</th>\n",
       "      <td>4</td>\n",
       "      <td>101657</td>\n",
       "    </tr>\n",
       "    <tr>\n",
       "      <th>4</th>\n",
       "      <td>8</td>\n",
       "      <td>83249</td>\n",
       "    </tr>\n",
       "    <tr>\n",
       "      <th>5</th>\n",
       "      <td>3</td>\n",
       "      <td>39423</td>\n",
       "    </tr>\n",
       "    <tr>\n",
       "      <th>6</th>\n",
       "      <td>9</td>\n",
       "      <td>34270</td>\n",
       "    </tr>\n",
       "    <tr>\n",
       "      <th>7</th>\n",
       "      <td>2</td>\n",
       "      <td>18454</td>\n",
       "    </tr>\n",
       "    <tr>\n",
       "      <th>8</th>\n",
       "      <td>1</td>\n",
       "      <td>11616</td>\n",
       "    </tr>\n",
       "    <tr>\n",
       "      <th>9</th>\n",
       "      <td>10</td>\n",
       "      <td>11497</td>\n",
       "    </tr>\n",
       "    <tr>\n",
       "      <th>10</th>\n",
       "      <td>0</td>\n",
       "      <td>3580</td>\n",
       "    </tr>\n",
       "    <tr>\n",
       "      <th>11</th>\n",
       "      <td>11</td>\n",
       "      <td>3177</td>\n",
       "    </tr>\n",
       "    <tr>\n",
       "      <th>12</th>\n",
       "      <td>12</td>\n",
       "      <td>712</td>\n",
       "    </tr>\n",
       "    <tr>\n",
       "      <th>13</th>\n",
       "      <td>13</td>\n",
       "      <td>126</td>\n",
       "    </tr>\n",
       "    <tr>\n",
       "      <th>14</th>\n",
       "      <td>14</td>\n",
       "      <td>26</td>\n",
       "    </tr>\n",
       "    <tr>\n",
       "      <th>15</th>\n",
       "      <td>15</td>\n",
       "      <td>2</td>\n",
       "    </tr>\n",
       "    <tr>\n",
       "      <th>16</th>\n",
       "      <td>16</td>\n",
       "      <td>1</td>\n",
       "    </tr>\n",
       "    <tr>\n",
       "      <th>17</th>\n",
       "      <td>41</td>\n",
       "      <td>1</td>\n",
       "    </tr>\n",
       "  </tbody>\n",
       "</table>\n",
       "</div>"
      ],
      "text/plain": [
       "    index   speed\n",
       "0       6  229745\n",
       "1       5  192427\n",
       "2       7  160004\n",
       "3       4  101657\n",
       "4       8   83249\n",
       "5       3   39423\n",
       "6       9   34270\n",
       "7       2   18454\n",
       "8       1   11616\n",
       "9      10   11497\n",
       "10      0    3580\n",
       "11     11    3177\n",
       "12     12     712\n",
       "13     13     126\n",
       "14     14      26\n",
       "15     15       2\n",
       "16     16       1\n",
       "17     41       1"
      ]
     },
     "execution_count": 12,
     "metadata": {},
     "output_type": "execute_result"
    }
   ],
   "source": [
    "data[\"speed\"] = data[\"speed\"].replace(0.000000,5.793497871920003)\n",
    "data[\"speed\"] = data[\"speed\"].round()\n",
    "data[\"speed\"] = [int(x) for x in data[\"speed\"]]\n",
    "data[\"speed\"].value_counts().reset_index()"
   ]
  },
  {
   "cell_type": "code",
   "execution_count": 13,
   "metadata": {},
   "outputs": [],
   "source": [
    "speed = {\"1\": 1,\"2\": 2,\"3\": 3, \"4\": 4,\"5\": 5,\"6\": 6,\"7\": 7,\"8\": 8,\"9\": 9,\"10\":10, \"11\": 11,\"12\": 12,\"13\": 13,\"14\": 14,\"15\": 15,\"16\": 16,\"41\": 41}"
   ]
  },
  {
   "cell_type": "code",
   "execution_count": 14,
   "metadata": {},
   "outputs": [
    {
     "data": {
      "text/plain": [
       "31"
      ]
     },
     "execution_count": 14,
     "metadata": {},
     "output_type": "execute_result"
    }
   ],
   "source": [
    "data[\"day\"].max()"
   ]
  },
  {
   "cell_type": "code",
   "execution_count": 15,
   "metadata": {},
   "outputs": [
    {
     "data": {
      "text/plain": [
       "4    163082\n",
       "1    148028\n",
       "0    138115\n",
       "2    136786\n",
       "3    123874\n",
       "6     95731\n",
       "5     84351\n",
       "Name: dayOfWeek, dtype: int64"
      ]
     },
     "execution_count": 15,
     "metadata": {},
     "output_type": "execute_result"
    }
   ],
   "source": [
    "data[\"dayOfWeek\"].value_counts()"
   ]
  },
  {
   "cell_type": "code",
   "execution_count": 16,
   "metadata": {},
   "outputs": [],
   "source": [
    "dayofweek = {\"Monday\":0,\"Tuesday\":1,\"Wednesday\":2,\"Thursday\":3,\"Friday\":4,\"Saturday\":5,\"Sunday\":6}"
   ]
  },
  {
   "cell_type": "code",
   "execution_count": 17,
   "metadata": {},
   "outputs": [
    {
     "data": {
      "application/vnd.jupyter.widget-view+json": {
       "model_id": "3a5374e1b10f4df78d2e4a9aa7cb190f",
       "version_major": 2,
       "version_minor": 0
      },
      "text/html": [
       "<p>Failed to display Jupyter Widget of type <code>interactive</code>.</p>\n",
       "<p>\n",
       "  If you're reading this message in the Jupyter Notebook or JupyterLab Notebook, it may mean\n",
       "  that the widgets JavaScript is still loading. If this message persists, it\n",
       "  likely means that the widgets JavaScript library is either not installed or\n",
       "  not enabled. See the <a href=\"https://ipywidgets.readthedocs.io/en/stable/user_install.html\">Jupyter\n",
       "  Widgets Documentation</a> for setup instructions.\n",
       "</p>\n",
       "<p>\n",
       "  If you're reading this message in another frontend (for example, a static\n",
       "  rendering on GitHub or <a href=\"https://nbviewer.jupyter.org/\">NBViewer</a>),\n",
       "  it may mean that your frontend doesn't currently support widgets.\n",
       "</p>\n"
      ],
      "text/plain": [
       "interactive(children=(Dropdown(description='Speed', options={'1': 1, '2': 2, '3': 3, '4': 4, '5': 5, '6': 6, '7': 7, '8': 8, '9': 9, '10': 10, '11': 11, '12': 12, '13': 13, '14': 14, '15': 15, '16': 16, '41': 41}, value=1), Dropdown(description='Days_of_Week', options={'Monday': 0, 'Tuesday': 1, 'Wednesday': 2, 'Thursday': 3, 'Friday': 4, 'Saturday': 5, 'Sunday': 6}, value=0), Output()), _dom_classes=('widget-interact',))"
      ]
     },
     "metadata": {},
     "output_type": "display_data"
    },
    {
     "data": {
      "text/plain": [
       "<function __main__.f>"
      ]
     },
     "execution_count": 17,
     "metadata": {},
     "output_type": "execute_result"
    }
   ],
   "source": [
    "\n",
    "\n",
    "def f(Speed,Days_of_Week):\n",
    "    map_hooray = folium.Map(location=[40.738, -73.98],\n",
    "                    zoom_start = 13) \n",
    "\n",
    "    # Ensure you're handing it floats\n",
    "    data['start station latitude'] = data['start station latitude'].astype(float)\n",
    "    data['start station longitude'] = data['start station longitude'].astype(float)\n",
    "\n",
    "    # Filter the DF for rows, then columns, then remove NaNs\n",
    "    heat_df = data[data['dayOfWeek']==Days_of_Week] # Reducing data size so it runs faster\n",
    "    #heat_df = heat_df[data['speed']==Speed]\n",
    "    heat_df = heat_df[heat_df['speed']==Speed] # Reducing data size so it runs faster\n",
    "    #print(heat_df)\n",
    "    heat_df = heat_df[['start station latitude', 'start station longitude']]\n",
    "    heat_df = heat_df.dropna(axis=0, subset=['start station latitude','start station longitude'])\n",
    "    #print(heat_df)\n",
    "    # List comprehension to make out list of lists\n",
    "    heat_data = [[row['start station latitude'],row['start station longitude']] for index, row in heat_df.iterrows()]\n",
    "    #print(heat_data)\n",
    "    # Plot it on the map\n",
    "    if(len(heat_data)==0):\n",
    "        print(\"No speed found!\")\n",
    "    HeatMap(heat_data).add_to(map_hooray)\n",
    "\n",
    "# Display the map\n",
    "    return map_hooray\n",
    "interact(f,Speed=speed,Days_of_Week=dayofweek)"
   ]
  },
  {
   "cell_type": "code",
   "execution_count": null,
   "metadata": {},
   "outputs": [],
   "source": []
  }
 ],
 "metadata": {
  "kernelspec": {
   "display_name": "Python 3",
   "language": "python",
   "name": "python3"
  },
  "language_info": {
   "codemirror_mode": {
    "name": "ipython",
    "version": 3
   },
   "file_extension": ".py",
   "mimetype": "text/x-python",
   "name": "python",
   "nbconvert_exporter": "python",
   "pygments_lexer": "ipython3",
   "version": "3.6.4"
  }
 },
 "nbformat": 4,
 "nbformat_minor": 2
}
